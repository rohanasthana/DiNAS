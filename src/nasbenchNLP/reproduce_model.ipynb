{
 "cells": [
  {
   "cell_type": "code",
   "execution_count": null,
   "metadata": {},
   "outputs": [],
   "source": [
    "import torch\n",
    "import torch.nn\n",
    "import torch.optim\n",
    "import torch.utils.data\n",
    "import torch.nn.functional as F\n",
    "from splitcross import SplitCrossEntropyLoss\n",
    "\n",
    "import numpy as np\n",
    "import networkx as nx\n",
    "import math\n",
    "import json\n",
    "import time\n",
    "\n",
    "import data\n",
    "import os\n",
    "from utils import batchify\n",
    "from argparse import Namespace\n",
    "from model import AWDRNNModel\n",
    "from train import train, evaluate\n",
    "import datetime"
   ]
  },
  {
   "cell_type": "code",
   "execution_count": null,
   "metadata": {},
   "outputs": [],
   "source": [
    "suffix = '2226_2020-04-18_07-35-19_999938929'"
   ]
  },
  {
   "cell_type": "code",
   "execution_count": null,
   "metadata": {},
   "outputs": [],
   "source": [
    "log = json.load(open('train_logs_multi_runs/log_stats_model_100' + suffix + '.json', 'r'))"
   ]
  },
  {
   "cell_type": "code",
   "execution_count": null,
   "metadata": {},
   "outputs": [],
   "source": [
    "args = Namespace(**log)"
   ]
  },
  {
   "cell_type": "code",
   "execution_count": null,
   "metadata": {},
   "outputs": [],
   "source": [
    "corpus = data.Corpus(args.data)\n",
    "cuda = 'cuda'\n",
    "\n",
    "train_data = batchify(corpus.train, args.batch_size, args, cuda)\n",
    "train_eval_data = batchify(corpus.train, args.eval_batch_size, args, cuda)\n",
    "val_data = batchify(corpus.valid, args.eval_batch_size, args, cuda)\n",
    "test_data = batchify(corpus.test, args.eval_batch_size, args, cuda)\n",
    "\n",
    "ntokens = len(corpus.dictionary)"
   ]
  },
  {
   "cell_type": "code",
   "execution_count": null,
   "metadata": {},
   "outputs": [],
   "source": [
    "custom_model = AWDRNNModel(args.model, \n",
    "                               ntokens, \n",
    "                               args.emsize, \n",
    "                               args.nhid, \n",
    "                               args.nlayers, \n",
    "                               args.dropout, \n",
    "                               args.dropouth, \n",
    "                               args.dropouti, \n",
    "                               args.dropoute, \n",
    "                               args.wdrop, \n",
    "                               args.tied,\n",
    "                               args.recepie,\n",
    "                               verbose=False)"
   ]
  },
  {
   "cell_type": "code",
   "execution_count": null,
   "metadata": {},
   "outputs": [],
   "source": [
    "custom_model.load_state_dict(torch.load('models_weights/dump_weights_model_' + suffix + '.pt'))"
   ]
  },
  {
   "cell_type": "code",
   "execution_count": null,
   "metadata": {},
   "outputs": [],
   "source": [
    "custom_model.to(cuda);"
   ]
  },
  {
   "cell_type": "code",
   "execution_count": null,
   "metadata": {},
   "outputs": [],
   "source": [
    "criterion = SplitCrossEntropyLoss(args.emsize, splits=[], verbose=False)"
   ]
  },
  {
   "cell_type": "code",
   "execution_count": null,
   "metadata": {},
   "outputs": [],
   "source": [
    "train_loss = evaluate(custom_model, criterion, train_eval_data, args.eval_batch_size, args)\n",
    "val_loss = evaluate(custom_model, criterion, val_data, args.eval_batch_size, args)\n",
    "test_loss = evaluate(custom_model, criterion, test_data, args.eval_batch_size, args)"
   ]
  },
  {
   "cell_type": "code",
   "execution_count": null,
   "metadata": {},
   "outputs": [],
   "source": [
    "print('-' * 89)\n",
    "print('train loss {:5.4f} | '\n",
    "    'train ppl {:8.2f} | train bpw {:8.3f} |\\n| valid loss {:5.4f} | '\n",
    "    'valid ppl {:8.2f} | valid bpw {:8.3f} |\\n| test loss {:5.4f} | '\n",
    "    'test ppl {:8.2f} | test bpw {:8.3f} |'.format(\n",
    "        train_loss, math.exp(train_loss), train_loss / math.log(2),\n",
    "        val_loss, math.exp(val_loss), val_loss / math.log(2),\n",
    "    test_loss, math.exp(test_loss), test_loss / math.log(2)))\n",
    "print('-' * 89)"
   ]
  },
  {
   "cell_type": "code",
   "execution_count": null,
   "metadata": {},
   "outputs": [],
   "source": [
    "print('logged train loss', log['train_losses'][-1])\n",
    "print('logged valid loss', log['val_losses'][-1])\n",
    "print('logged test loss', log['test_losses'][-1])"
   ]
  },
  {
   "cell_type": "code",
   "execution_count": null,
   "metadata": {},
   "outputs": [],
   "source": []
  }
 ],
 "metadata": {
  "kernelspec": {
   "display_name": "Python 3",
   "language": "python",
   "name": "python3"
  },
  "language_info": {
   "codemirror_mode": {
    "name": "ipython",
    "version": 3
   },
   "file_extension": ".py",
   "mimetype": "text/x-python",
   "name": "python",
   "nbconvert_exporter": "python",
   "pygments_lexer": "ipython3",
   "version": "3.6.10"
  }
 },
 "nbformat": 4,
 "nbformat_minor": 2
}
