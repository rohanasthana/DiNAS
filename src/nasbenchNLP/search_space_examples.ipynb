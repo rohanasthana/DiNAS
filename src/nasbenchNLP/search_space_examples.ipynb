{
 "cells": [
  {
   "cell_type": "code",
   "execution_count": null,
   "metadata": {},
   "outputs": [],
   "source": [
    "%load_ext autoreload\n",
    "%autoreload 2"
   ]
  },
  {
   "cell_type": "code",
   "execution_count": null,
   "metadata": {},
   "outputs": [],
   "source": [
    "import search_space\n",
    "import plotting\n",
    "import json\n",
    "\n",
    "%matplotlib inline\n",
    "import matplotlib.pyplot as plt"
   ]
  },
  {
   "cell_type": "code",
   "execution_count": null,
   "metadata": {},
   "outputs": [],
   "source": [
    "recepie_generator = search_space.RecepieGenerator()"
   ]
  },
  {
   "cell_type": "code",
   "execution_count": null,
   "metadata": {},
   "outputs": [],
   "source": [
    "recepie = recepie_generator.get_example_recepie('rnn')\n",
    "print(recepie)\n",
    "fig = plotting.plot_recepie(recepie, dpi=100)"
   ]
  },
  {
   "cell_type": "code",
   "execution_count": null,
   "metadata": {},
   "outputs": [],
   "source": [
    "with open(\"data/figures/rnn_cell.png\", \"wb\") as png:\n",
    "    png.write(fig.data)"
   ]
  },
  {
   "cell_type": "code",
   "execution_count": null,
   "metadata": {},
   "outputs": [],
   "source": [
    "fig"
   ]
  },
  {
   "cell_type": "code",
   "execution_count": null,
   "metadata": {},
   "outputs": [],
   "source": [
    "recepie = recepie_generator.get_example_recepie('lstm')\n",
    "print(recepie)\n",
    "fig = plotting.plot_recepie(recepie, dpi=100)"
   ]
  },
  {
   "cell_type": "code",
   "execution_count": null,
   "metadata": {},
   "outputs": [],
   "source": [
    "with open(\"data/figures/lstm_cell.png\", \"wb\") as png:\n",
    "    png.write(fig.data)"
   ]
  },
  {
   "cell_type": "code",
   "execution_count": null,
   "metadata": {},
   "outputs": [],
   "source": [
    "fig"
   ]
  },
  {
   "cell_type": "code",
   "execution_count": null,
   "metadata": {},
   "outputs": [],
   "source": [
    "recepie = recepie_generator.get_example_recepie('gru')\n",
    "print(recepie)\n",
    "fig = plotting.plot_recepie(recepie, dpi=100)"
   ]
  },
  {
   "cell_type": "code",
   "execution_count": null,
   "metadata": {},
   "outputs": [],
   "source": [
    "with open(\"data/figures/gru_cell.png\", \"wb\") as png:\n",
    "    png.write(fig.data)"
   ]
  },
  {
   "cell_type": "code",
   "execution_count": null,
   "metadata": {},
   "outputs": [],
   "source": [
    "fig"
   ]
  },
  {
   "cell_type": "code",
   "execution_count": null,
   "metadata": {},
   "outputs": [],
   "source": [
    "recepie, sanity_check = recepie_generator.generate_random_recepie(4)\n",
    "print('valid recepie: ', sanity_check)\n",
    "plotting.plot_recepie(recepie)"
   ]
  },
  {
   "cell_type": "code",
   "execution_count": null,
   "metadata": {},
   "outputs": [],
   "source": [
    "recepie, sanity_check = recepie_generator.generate_random_recepie(10)\n",
    "print('valid recepie: ', sanity_check)\n",
    "plotting.plot_recepie(recepie)"
   ]
  },
  {
   "cell_type": "markdown",
   "metadata": {},
   "source": [
    "# Make search space elements example"
   ]
  },
  {
   "cell_type": "code",
   "execution_count": null,
   "metadata": {},
   "outputs": [],
   "source": [
    "from tqdm import tqdm_notebook"
   ]
  },
  {
   "cell_type": "code",
   "execution_count": null,
   "metadata": {},
   "outputs": [],
   "source": [
    "max_valid_confs = 100\n",
    "all_recepies = []\n",
    "rnd_offset = 0\n",
    "for hidden_tuple_size in [1, 2, 3]:\n",
    "    for intermediate_elements in [7, 14, 21]:\n",
    "        recepie_generator = search_space.RecepieGenerator(hidden_tuple_size, intermediate_elements)\n",
    "        N = 200\n",
    "        valid_seeds = []\n",
    "        for i in tqdm_notebook(range(N)):\n",
    "            recepie, sanity_check = recepie_generator.generate_random_recepie(i + rnd_offset)\n",
    "            if sanity_check:\n",
    "                valid_seeds.append(i)\n",
    "        for i in valid_seeds[:max_valid_confs]:\n",
    "            recepie, sanity_check = recepie_generator.generate_random_recepie(i + rnd_offset)\n",
    "            all_recepies.append(recepie)\n",
    "        rnd_offset += N"
   ]
  },
  {
   "cell_type": "code",
   "execution_count": null,
   "metadata": {},
   "outputs": [],
   "source": [
    "json_recepies = [json.dumps(x) for x in all_recepies]"
   ]
  },
  {
   "cell_type": "markdown",
   "metadata": {},
   "source": [
    "mind about duplicates that can appear during generation"
   ]
  },
  {
   "cell_type": "code",
   "execution_count": null,
   "metadata": {},
   "outputs": [],
   "source": [
    "len(json_recepies)"
   ]
  },
  {
   "cell_type": "code",
   "execution_count": null,
   "metadata": {},
   "outputs": [],
   "source": [
    "len(set(json_recepies))"
   ]
  },
  {
   "cell_type": "code",
   "execution_count": null,
   "metadata": {},
   "outputs": [],
   "source": []
  },
  {
   "cell_type": "code",
   "execution_count": null,
   "metadata": {},
   "outputs": [],
   "source": []
  }
 ],
 "metadata": {
  "kernelspec": {
   "display_name": "Python 3",
   "language": "python",
   "name": "python3"
  },
  "language_info": {
   "codemirror_mode": {
    "name": "ipython",
    "version": 3
   },
   "file_extension": ".py",
   "mimetype": "text/x-python",
   "name": "python",
   "nbconvert_exporter": "python",
   "pygments_lexer": "ipython3",
   "version": "3.6.10"
  }
 },
 "nbformat": 4,
 "nbformat_minor": 2
}
